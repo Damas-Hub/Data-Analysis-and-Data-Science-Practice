{
 "cells": [
  {
   "cell_type": "code",
   "execution_count": 2,
   "metadata": {},
   "outputs": [
    {
     "name": "stdout",
     "output_type": "stream",
     "text": [
      "                        name  calories  protein  vitamins     rating\n",
      "0                  100% Bran        70        4        25  68.402973\n",
      "1          100% Natural Bran       120        3         0  33.983679\n",
      "2                   All-Bran        70        4        25  59.425505\n",
      "3  All-Bran with Extra Fiber        50        4        25  93.704912\n",
      "4             Almond Delight       110        2        25  34.384843\n",
      "5    Apple Cinnamon Cheerios       110        2        25  29.509541\n",
      "6                Apple Jacks       110        2        25  33.174094\n",
      "7                    Basic 4       130        3        25  37.038562\n",
      "8                  Bran Chex        90        2        25  49.120253\n",
      "9                Bran Flakes        90        3        25  53.313813\n"
     ]
    }
   ],
   "source": [
    "import pandas as pd\n",
    "\n",
    "# Define the file path\n",
    "file_path = r\"C:\\Users\\HUBERT\\Desktop\\Datasets\\cereals.csv\"\n",
    "\n",
    "# Load the CSV file into a DataFrame\n",
    "df = pd.read_csv(file_path)\n",
    "\n",
    "# Display the first few rows of the DataFrame\n",
    "print(df)\n"
   ]
  },
  {
   "cell_type": "code",
   "execution_count": 3,
   "metadata": {},
   "outputs": [
    {
     "data": {
      "text/plain": [
       "<bound method NDFrame.describe of                         name  calories  protein  vitamins     rating\n",
       "0                  100% Bran        70        4        25  68.402973\n",
       "1          100% Natural Bran       120        3         0  33.983679\n",
       "2                   All-Bran        70        4        25  59.425505\n",
       "3  All-Bran with Extra Fiber        50        4        25  93.704912\n",
       "4             Almond Delight       110        2        25  34.384843\n",
       "5    Apple Cinnamon Cheerios       110        2        25  29.509541\n",
       "6                Apple Jacks       110        2        25  33.174094\n",
       "7                    Basic 4       130        3        25  37.038562\n",
       "8                  Bran Chex        90        2        25  49.120253\n",
       "9                Bran Flakes        90        3        25  53.313813>"
      ]
     },
     "execution_count": 3,
     "metadata": {},
     "output_type": "execute_result"
    }
   ],
   "source": [
    "df.describe"
   ]
  },
  {
   "cell_type": "markdown",
   "metadata": {},
   "source": [
    "Inspecting the Data"
   ]
  },
  {
   "cell_type": "code",
   "execution_count": 4,
   "metadata": {},
   "outputs": [
    {
     "name": "stdout",
     "output_type": "stream",
     "text": [
      "                        name  calories  protein  vitamins     rating\n",
      "0                  100% Bran        70        4        25  68.402973\n",
      "1          100% Natural Bran       120        3         0  33.983679\n",
      "2                   All-Bran        70        4        25  59.425505\n",
      "3  All-Bran with Extra Fiber        50        4        25  93.704912\n",
      "4             Almond Delight       110        2        25  34.384843\n",
      "<class 'pandas.core.frame.DataFrame'>\n",
      "Index: 10 entries, 0 to 9\n",
      "Data columns (total 5 columns):\n",
      " #   Column    Non-Null Count  Dtype  \n",
      "---  ------    --------------  -----  \n",
      " 0   name      10 non-null     object \n",
      " 1   calories  10 non-null     int64  \n",
      " 2   protein   10 non-null     int64  \n",
      " 3   vitamins  10 non-null     int64  \n",
      " 4   rating    10 non-null     float64\n",
      "dtypes: float64(1), int64(3), object(1)\n",
      "memory usage: 480.0+ bytes\n",
      "None\n",
      "         calories    protein   vitamins     rating\n",
      "count   10.000000  10.000000  10.000000  10.000000\n",
      "mean    95.000000   2.900000  22.500000  49.205817\n",
      "std     25.495098   0.875595   7.905694  20.315297\n",
      "min     50.000000   2.000000   0.000000  29.509541\n",
      "25%     75.000000   2.000000  25.000000  34.083970\n",
      "50%    100.000000   3.000000  25.000000  43.079408\n",
      "75%    110.000000   3.750000  25.000000  57.897582\n",
      "max    130.000000   4.000000  25.000000  93.704912\n"
     ]
    }
   ],
   "source": [
    "# Display the first few rows of the dataset\n",
    "print(df.head())\n",
    "\n",
    "# Get information about the dataset\n",
    "print(df.info())\n",
    "\n",
    "# Get summary statistics of the dataset\n",
    "print(df.describe())\n"
   ]
  },
  {
   "cell_type": "markdown",
   "metadata": {},
   "source": [
    "Handling Missing Values"
   ]
  },
  {
   "cell_type": "code",
   "execution_count": 5,
   "metadata": {},
   "outputs": [
    {
     "name": "stdout",
     "output_type": "stream",
     "text": [
      "name        0\n",
      "calories    0\n",
      "protein     0\n",
      "vitamins    0\n",
      "rating      0\n",
      "dtype: int64\n"
     ]
    }
   ],
   "source": [
    "# Check for missing values\n",
    "print(df.isnull().sum())\n"
   ]
  }
 ],
 "metadata": {
  "kernelspec": {
   "display_name": "Python 3",
   "language": "python",
   "name": "python3"
  },
  "language_info": {
   "codemirror_mode": {
    "name": "ipython",
    "version": 3
   },
   "file_extension": ".py",
   "mimetype": "text/x-python",
   "name": "python",
   "nbconvert_exporter": "python",
   "pygments_lexer": "ipython3",
   "version": "3.12.1"
  }
 },
 "nbformat": 4,
 "nbformat_minor": 2
}
