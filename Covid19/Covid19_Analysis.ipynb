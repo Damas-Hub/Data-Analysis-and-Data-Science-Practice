{
 "cells": [
  {
   "cell_type": "markdown",
   "metadata": {},
   "source": [
    "Loading the dataset"
   ]
  },
  {
   "cell_type": "code",
   "execution_count": 1,
   "metadata": {},
   "outputs": [
    {
     "name": "stdout",
     "output_type": "stream",
     "text": [
      "          Date     State          Region  Confirmed  Deaths  Recovered\n",
      "0    4/29/2020       NaN     Afghanistan       1939      60        252\n",
      "1    4/29/2020       NaN         Albania        766      30        455\n",
      "2    4/29/2020       NaN         Algeria       3848     444       1702\n",
      "3    4/29/2020       NaN         Andorra        743      42        423\n",
      "4    4/29/2020       NaN          Angola         27       2          7\n",
      "..         ...       ...             ...        ...     ...        ...\n",
      "316  4/29/2020   Wyoming              US        545       7          0\n",
      "317  4/29/2020  Xinjiang  Mainland China         76       3         73\n",
      "318  4/29/2020     Yukon          Canada         11       0          0\n",
      "319  4/29/2020    Yunnan  Mainland China        185       2        181\n",
      "320  4/29/2020  Zhejiang  Mainland China       1268       1       1263\n",
      "\n",
      "[321 rows x 6 columns]\n"
     ]
    }
   ],
   "source": [
    "import pandas as pd\n",
    "\n",
    "# Defining the file path\n",
    "file_path = r\"C:\\Users\\HUBERT\\Desktop\\Datasets\\Covid19.csv\"\n",
    "\n",
    "# Loading the CSV file into the DataFrame(df)\n",
    "df = pd.read_csv(file_path)\n",
    "\n",
    "# Displaying the first few rows of the DataFrame\n",
    "print(df)"
   ]
  },
  {
   "cell_type": "code",
   "execution_count": 2,
   "metadata": {},
   "outputs": [
    {
     "data": {
      "text/plain": [
       "Date         321\n",
       "State        140\n",
       "Region       321\n",
       "Confirmed    321\n",
       "Deaths       321\n",
       "Recovered    321\n",
       "dtype: int64"
      ]
     },
     "execution_count": 2,
     "metadata": {},
     "output_type": "execute_result"
    }
   ],
   "source": [
    "df.count()"
   ]
  },
  {
   "cell_type": "markdown",
   "metadata": {},
   "source": [
    "checking details of the dataset"
   ]
  },
  {
   "cell_type": "code",
   "execution_count": 3,
   "metadata": {},
   "outputs": [
    {
     "data": {
      "text/plain": [
       "<bound method NDFrame.describe of           Date     State          Region  Confirmed  Deaths  Recovered\n",
       "0    4/29/2020       NaN     Afghanistan       1939      60        252\n",
       "1    4/29/2020       NaN         Albania        766      30        455\n",
       "2    4/29/2020       NaN         Algeria       3848     444       1702\n",
       "3    4/29/2020       NaN         Andorra        743      42        423\n",
       "4    4/29/2020       NaN          Angola         27       2          7\n",
       "..         ...       ...             ...        ...     ...        ...\n",
       "316  4/29/2020   Wyoming              US        545       7          0\n",
       "317  4/29/2020  Xinjiang  Mainland China         76       3         73\n",
       "318  4/29/2020     Yukon          Canada         11       0          0\n",
       "319  4/29/2020    Yunnan  Mainland China        185       2        181\n",
       "320  4/29/2020  Zhejiang  Mainland China       1268       1       1263\n",
       "\n",
       "[321 rows x 6 columns]>"
      ]
     },
     "execution_count": 3,
     "metadata": {},
     "output_type": "execute_result"
    }
   ],
   "source": [
    "df.describe"
   ]
  },
  {
   "cell_type": "code",
   "execution_count": 4,
   "metadata": {},
   "outputs": [
    {
     "data": {
      "text/html": [
       "<div>\n",
       "<style scoped>\n",
       "    .dataframe tbody tr th:only-of-type {\n",
       "        vertical-align: middle;\n",
       "    }\n",
       "\n",
       "    .dataframe tbody tr th {\n",
       "        vertical-align: top;\n",
       "    }\n",
       "\n",
       "    .dataframe thead th {\n",
       "        text-align: right;\n",
       "    }\n",
       "</style>\n",
       "<table border=\"1\" class=\"dataframe\">\n",
       "  <thead>\n",
       "    <tr style=\"text-align: right;\">\n",
       "      <th></th>\n",
       "      <th>Date</th>\n",
       "      <th>State</th>\n",
       "      <th>Region</th>\n",
       "      <th>Confirmed</th>\n",
       "      <th>Deaths</th>\n",
       "      <th>Recovered</th>\n",
       "    </tr>\n",
       "  </thead>\n",
       "  <tbody>\n",
       "    <tr>\n",
       "      <th>0</th>\n",
       "      <td>4/29/2020</td>\n",
       "      <td>NaN</td>\n",
       "      <td>Afghanistan</td>\n",
       "      <td>1939</td>\n",
       "      <td>60</td>\n",
       "      <td>252</td>\n",
       "    </tr>\n",
       "    <tr>\n",
       "      <th>1</th>\n",
       "      <td>4/29/2020</td>\n",
       "      <td>NaN</td>\n",
       "      <td>Albania</td>\n",
       "      <td>766</td>\n",
       "      <td>30</td>\n",
       "      <td>455</td>\n",
       "    </tr>\n",
       "    <tr>\n",
       "      <th>2</th>\n",
       "      <td>4/29/2020</td>\n",
       "      <td>NaN</td>\n",
       "      <td>Algeria</td>\n",
       "      <td>3848</td>\n",
       "      <td>444</td>\n",
       "      <td>1702</td>\n",
       "    </tr>\n",
       "    <tr>\n",
       "      <th>3</th>\n",
       "      <td>4/29/2020</td>\n",
       "      <td>NaN</td>\n",
       "      <td>Andorra</td>\n",
       "      <td>743</td>\n",
       "      <td>42</td>\n",
       "      <td>423</td>\n",
       "    </tr>\n",
       "    <tr>\n",
       "      <th>4</th>\n",
       "      <td>4/29/2020</td>\n",
       "      <td>NaN</td>\n",
       "      <td>Angola</td>\n",
       "      <td>27</td>\n",
       "      <td>2</td>\n",
       "      <td>7</td>\n",
       "    </tr>\n",
       "  </tbody>\n",
       "</table>\n",
       "</div>"
      ],
      "text/plain": [
       "        Date State       Region  Confirmed  Deaths  Recovered\n",
       "0  4/29/2020   NaN  Afghanistan       1939      60        252\n",
       "1  4/29/2020   NaN      Albania        766      30        455\n",
       "2  4/29/2020   NaN      Algeria       3848     444       1702\n",
       "3  4/29/2020   NaN      Andorra        743      42        423\n",
       "4  4/29/2020   NaN       Angola         27       2          7"
      ]
     },
     "execution_count": 4,
     "metadata": {},
     "output_type": "execute_result"
    }
   ],
   "source": [
    "df.head()"
   ]
  },
  {
   "cell_type": "markdown",
   "metadata": {},
   "source": [
    "final code "
   ]
  },
  {
   "cell_type": "code",
   "execution_count": 6,
   "metadata": {},
   "outputs": [],
   "source": [
    " \n",
    "import matplotlib.pyplot as plt\n",
    "import seaborn as sns"
   ]
  },
  {
   "cell_type": "code",
   "execution_count": 7,
   "metadata": {},
   "outputs": [],
   "source": [
    "# Load the Covid19 data\n",
    "file_path = r\"C:\\Users\\HUBERT\\Desktop\\Datasets\\Covid19.csv\"\n",
    "df = pd.read_csv(file_path)"
   ]
  },
  {
   "cell_type": "code",
   "execution_count": 8,
   "metadata": {},
   "outputs": [
    {
     "name": "stdout",
     "output_type": "stream",
     "text": [
      "        Date State       Region  Confirmed  Deaths  Recovered\n",
      "0  4/29/2020   NaN  Afghanistan       1939      60        252\n",
      "1  4/29/2020   NaN      Albania        766      30        455\n",
      "2  4/29/2020   NaN      Algeria       3848     444       1702\n",
      "3  4/29/2020   NaN      Andorra        743      42        423\n",
      "4  4/29/2020   NaN       Angola         27       2          7\n",
      "Index(['Date', 'State', 'Region', 'Confirmed', 'Deaths', 'Recovered'], dtype='object')\n"
     ]
    }
   ],
   "source": [
    "# Display the first few rows of the data\n",
    "print(df.head())\n",
    "\n",
    "# Print column names\n",
    "print(df.columns)"
   ]
  },
  {
   "cell_type": "code",
   "execution_count": 9,
   "metadata": {},
   "outputs": [],
   "source": [
    "# Clean column names by stripping leading/trailing spaces and converting to lowercase\n",
    "df.columns = df.columns.str.strip().str.lower()"
   ]
  },
  {
   "cell_type": "code",
   "execution_count": 10,
   "metadata": {},
   "outputs": [
    {
     "name": "stdout",
     "output_type": "stream",
     "text": [
      "Index(['date', 'state', 'region', 'confirmed', 'deaths', 'recovered'], dtype='object')\n"
     ]
    }
   ],
   "source": [
    "# Print cleaned column names\n",
    "print(df.columns)"
   ]
  },
  {
   "cell_type": "code",
   "execution_count": 11,
   "metadata": {},
   "outputs": [
    {
     "name": "stdout",
     "output_type": "stream",
     "text": [
      "           confirmed        deaths      recovered\n",
      "count     321.000000    321.000000     321.000000\n",
      "mean     9949.800623    709.152648    3030.277259\n",
      "std     31923.853086   3236.162817   14364.870365\n",
      "min         0.000000      0.000000       0.000000\n",
      "25%       104.000000      2.000000       2.000000\n",
      "50%       653.000000     12.000000      73.000000\n",
      "75%      4655.000000    144.000000     587.000000\n",
      "max    299691.000000  27682.000000  132929.000000\n",
      "<class 'pandas.core.frame.DataFrame'>\n",
      "RangeIndex: 321 entries, 0 to 320\n",
      "Data columns (total 6 columns):\n",
      " #   Column     Non-Null Count  Dtype \n",
      "---  ------     --------------  ----- \n",
      " 0   date       321 non-null    object\n",
      " 1   state      140 non-null    object\n",
      " 2   region     321 non-null    object\n",
      " 3   confirmed  321 non-null    int64 \n",
      " 4   deaths     321 non-null    int64 \n",
      " 5   recovered  321 non-null    int64 \n",
      "dtypes: int64(3), object(3)\n",
      "memory usage: 15.2+ KB\n",
      "None\n",
      "date           0\n",
      "state        181\n",
      "region         0\n",
      "confirmed      0\n",
      "deaths         0\n",
      "recovered      0\n",
      "dtype: int64\n"
     ]
    }
   ],
   "source": [
    "# Display summary statistics\n",
    "print(df.describe())\n",
    "\n",
    "# Display info to understand data types and missing values\n",
    "print(df.info())\n",
    "\n",
    "# Check for missing values\n",
    "print(df.isnull().sum())"
   ]
  },
  {
   "cell_type": "code",
   "execution_count": 12,
   "metadata": {},
   "outputs": [
    {
     "name": "stdout",
     "output_type": "stream",
     "text": [
      "        date state       region  confirmed  deaths  recovered\n",
      "0  4/29/2020   NaN  Afghanistan       1939      60        252\n",
      "1  4/29/2020   NaN      Albania        766      30        455\n",
      "2  4/29/2020   NaN      Algeria       3848     444       1702\n",
      "3  4/29/2020   NaN      Andorra        743      42        423\n",
      "4  4/29/2020   NaN       Angola         27       2          7\n"
     ]
    }
   ],
   "source": [
    "# Handle missing values by filling with mean for numeric columns\n",
    "df.fillna(df.mean(numeric_only=True), inplace=True)\n",
    "\n",
    "# Alternatively, you could remove rows with missing values\n",
    "# covid_df.dropna(inplace=True)\n",
    "\n",
    "# Display the first few rows to verify changes\n",
    "print(df.head())"
   ]
  },
  {
   "cell_type": "code",
   "execution_count": 23,
   "metadata": {},
   "outputs": [
    {
     "name": "stdout",
     "output_type": "stream",
     "text": [
      "           confirmed    deaths  recovered\n",
      "confirmed   1.000000  0.907294   0.596008\n",
      "deaths      0.907294  1.000000   0.519295\n",
      "recovered   0.596008  0.519295   1.000000\n"
     ]
    },
    {
     "data": {
      "image/png": "[encoded data removed]",
      "text/plain": [
       "<Figure size 1400x700 with 2 Axes>"
      ]
     },
     "metadata": {},
     "output_type": "display_data"
    }
   ],
   "source": [
    "# total cases by country  \n",
    "if 'country' in df.columns and 'totalcases' in df.columns:\n",
    "    total_cases_by_country = df.groupby('country')['totalcases'].sum().sort_values(ascending=False)\n",
    "    print(total_cases_by_country)\n",
    "\n",
    "    # Plot total cases by top 10 countries\n",
    "    plt.figure(figsize=(14, 7))\n",
    "    top_10_countries = total_cases_by_country.head(10)\n",
    "    top_10_countries.plot(kind='bar', color='skyblue')\n",
    "    plt.xlabel('Country')\n",
    "    plt.ylabel('Total Cases')\n",
    "    plt.title('Top 10 Countries by Total Covid-19 Cases')\n",
    "    plt.show()\n",
    "\n",
    "#  average number of deaths by country\n",
    "if 'country' in df.columns and 'totaldeaths' in df.columns:\n",
    "    average_deaths_by_country = df.groupby('country')['totaldeaths'].mean().sort_values(ascending=False)\n",
    "    print(average_deaths_by_country)\n",
    "\n",
    "    # Plot average deaths by top 10 countries\n",
    "    plt.figure(figsize=(14, 7))\n",
    "    top_10_death_countries = average_deaths_by_country.head(10)\n",
    "    top_10_death_countries.plot(kind='bar', color='salmon')\n",
    "    plt.xlabel('Country')\n",
    "    plt.ylabel('Average Deaths')\n",
    "    plt.title('Top 10 Countries by Average Covid-19 Deaths')\n",
    "    plt.show()\n",
    "\n",
    "# Select only numeric columns for correlation analysis\n",
    "numeric_cols = df.select_dtypes(include=['number']).columns\n",
    "correlation_matrix = df[numeric_cols].corr()\n",
    "print(correlation_matrix)\n",
    "\n",
    "# Correlation heatmap\n",
    "plt.figure(figsize=(14, 7))\n",
    "sns.heatmap(correlation_matrix, annot=True, cmap='coolwarm')\n",
    "plt.title('Correlation Heatmap of Covid-19 Data')\n",
    "plt.show()\n",
    "\n",
    "# Scatter plot of Total Cases vs. Total Deaths\n",
    "if 'totalcases' in df.columns and 'totaldeaths' in df.columns:\n",
    "    plt.figure(figsize=(10, 6))\n",
    "    sns.scatterplot(x='totalcases', y='totaldeaths', data=df)\n",
    "    plt.xlabel('Total Cases')\n",
    "    plt.ylabel('Total Deaths')\n",
    "    plt.title('Total Cases vs. Total Deaths')\n",
    "    plt.show()\n",
    "\n",
    "# Scatter plot of Total Tests vs. Total Cases\n",
    "if 'totaltests' in df.columns and 'totalcases' in df.columns:\n",
    "    plt.figure(figsize=(10, 6))\n",
    "    sns.scatterplot(x='totaltests', y='totalcases', data=df)\n",
    "    plt.xlabel('Total Tests')\n",
    "    plt.ylabel('Total Cases')\n",
    "    plt.title('Total Tests vs. Total Cases')\n",
    "    plt.show()\n",
    "\n",
    "# Scatter plot of Total Tests per Million vs. Total Cases per Million\n",
    "if 'testspermillion' in df.columns and 'casespermillion' in df.columns:\n",
    "    plt.figure(figsize=(10, 6))\n",
    "    sns.scatterplot(x='testspermillion', y='casespermillion', data=df)\n",
    "    plt.xlabel('Total Tests per Million')\n",
    "    plt.ylabel('Total Cases per Million')\n",
    "    plt.title('Total Tests per Million vs. Total Cases per Million')\n",
    "    plt.show()\n",
    "\n",
    "# Example analysis: Case Fatality Rate (CFR) by country\n",
    "if 'totaldeaths' in df.columns and 'totalcases' in df.columns:\n",
    "    df['casefatalityrate'] = (df['totaldeaths'] / df['totalcases']) * 100\n",
    "    cfr_by_country = df.groupby('country')['casefatalityrate'].mean().sort_values(ascending=False)\n",
    "    print(cfr_by_country)\n",
    "\n",
    "    # Plot top 10 countries by Case Fatality Rate (CFR)\n",
    "    plt.figure(figsize=(14, 7))\n",
    "    top_10_cfr_countries = cfr_by_country.head(10)\n",
    "    top_10_cfr_countries.plot(kind='bar', color='purple')\n",
    "    plt.xlabel('Country')\n",
    "    plt.ylabel('Case Fatality Rate (%)')\n",
    "    plt.title('Top 10 Countries by Case Fatality Rate')\n",
    "    plt.show()\n",
    "\n",
    "# Box plot of Total Cases by Country\n",
    "if 'country' in df.columns and 'totalcases' in df.columns:\n",
    "    plt.figure(figsize=(14, 7))\n",
    "    sns.boxplot(x='country', y='totalcases', data=df)\n",
    "    plt.xlabel('Country')\n",
    "    plt.ylabel('Total Cases')\n",
    "    plt.title('Box Plot of Total Cases by Country')\n",
    "    plt.xticks(rotation=90)\n",
    "    plt.show()"
   ]
  }
 ],
 "metadata": {
  "kernelspec": {
   "display_name": "Python 3",
   "language": "python",
   "name": "python3"
  },
  "language_info": {
   "codemirror_mode": {
    "name": "ipython",
    "version": 3
   },
   "file_extension": ".py",
   "mimetype": "text/x-python",
   "name": "python",
   "nbconvert_exporter": "python",
   "pygments_lexer": "ipython3",
   "version": "3.12.1"
  }
 },
 "nbformat": 4,
 "nbformat_minor": 2
}
